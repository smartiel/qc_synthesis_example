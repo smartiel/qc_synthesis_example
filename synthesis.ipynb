{
 "cells": [
  {
   "attachments": {},
   "cell_type": "markdown",
   "metadata": {},
   "source": [
    "# 1-qubit unitary synthesis"
   ]
  },
  {
   "cell_type": "code",
   "execution_count": 3,
   "metadata": {},
   "outputs": [
    {
     "name": "stdout",
     "output_type": "stream",
     "text": [
      "[[-0.58555973-0.373348j   -0.52248217+0.49471553j]\n",
      " [ 0.05019359-0.71778247j  0.66030744+0.21508838j]]\n",
      "[[ 0.69445585-0.j          0.17458772-0.69803309j]\n",
      " [ 0.34356583+0.63221325j -0.67240022+0.17362856j]]\n",
      "alpha = 2.643804905479036\n",
      "beta = 1.6062659051267858\n",
      "gamma = 0.24508578158502914\n"
     ]
    }
   ],
   "source": [
    "import numpy as np\n",
    "from scipy.stats import unitary_group\n",
    "\n",
    "u = unitary_group.rvs(2)\n",
    "\n",
    "\n",
    "global_phase = np.angle(u[0, 0])\n",
    "u /= np.exp(1j * global_phase)\n",
    "print(u)\n",
    "\n",
    "beta = 2 * np.arccos(u[0, 0].real)\n",
    "alpha = np.angle(1j * u[1, 0] / (np.sin(beta/2)))\n",
    "gamma = np.angle(u[1, 1] / (np.cos(beta/2))) - alpha\n",
    "print(\"alpha =\", alpha)\n",
    "print(\"beta =\", beta)\n",
    "print(\"gamma =\", gamma)"
   ]
  },
  {
   "attachments": {},
   "cell_type": "markdown",
   "metadata": {},
   "source": [
    "## Sanity check"
   ]
  },
  {
   "cell_type": "code",
   "execution_count": 4,
   "metadata": {},
   "outputs": [
    {
     "name": "stdout",
     "output_type": "stream",
     "text": [
      "[[ 0.69445585+0.j          0.17458772-0.69803309j]\n",
      " [ 0.34356583+0.63221325j -0.67240022+0.17362856j]]\n",
      "[[ 0.69445585-0.j          0.17458772-0.69803309j]\n",
      " [ 0.34356583+0.63221325j -0.67240022+0.17362856j]]\n"
     ]
    }
   ],
   "source": [
    "def rz(theta):\n",
    "    return np.diag([1, np.exp(1j * theta)])\n",
    "\n",
    "def rx(theta):\n",
    "    return np.cos(theta/2) * np.eye(2) -1j*np.sin(theta/2) * np.array([[0, 1], [1, 0]])\n",
    "print(\"Our target matrix:\")\n",
    "print(u)\n",
    "print(\"Our circuit:\")\n",
    "print(rz(alpha).dot(rx(beta).dot(rz(gamma))))"
   ]
  },
  {
   "attachments": {},
   "cell_type": "markdown",
   "metadata": {},
   "source": [
    "# 2-qbit synthesis\n",
    "\n",
    "The BFGS way !\n"
   ]
  },
  {
   "cell_type": "code",
   "execution_count": 13,
   "metadata": {},
   "outputs": [],
   "source": [
    "I =np.eye(2)\n",
    "def ry(theta):\n",
    "    return np.cos(theta/2) * I -1j * np.sin(theta/2) * np.array([[0, -1j], [1j, 0]])\n",
    "    \n",
    "CNOT = np.array([[1, 0, 0, 0], [0, 1, 0, 0], [0, 0, 0, 1], [0, 0, 1, 0]])\n",
    "SWAP = np.array([[1, 0, 0, 0], [0, 0, 1, 0], [0, 1, 0, 0], [0, 0, 0, 1]])\n",
    "TONC = SWAP.dot(CNOT).dot(SWAP)"
   ]
  },
  {
   "cell_type": "code",
   "execution_count": 31,
   "metadata": {},
   "outputs": [],
   "source": [
    "def build_matrix(angles):\n",
    "    mat = np.eye(4, dtype=np.complex128)\n",
    "    # U1\n",
    "    mat = np.kron(rz(angles[0]), I).dot(mat)\n",
    "    mat = np.kron(rx(angles[1]), I).dot(mat)\n",
    "    mat = np.kron(rz(angles[2]), I).dot(mat)\n",
    "    # U2\n",
    "    mat = np.kron(I, rx(angles[3])).dot(mat)\n",
    "    mat = np.kron(I, rz(angles[4])).dot(mat)\n",
    "    mat = np.kron(I, rx(angles[5])).dot(mat)\n",
    "    # 1st CNOT\n",
    "    mat = TONC.dot(mat)\n",
    "    # RZ\n",
    "    mat = np.kron(rz(angles[6]), I).dot(mat)\n",
    "    # RY\n",
    "    mat = np.kron(I, ry(angles[7])).dot(mat)\n",
    "    # 2nd CNOT\n",
    "    mat = CNOT.dot(mat)\n",
    "    # RY\n",
    "    mat = np.kron(I, ry(angles[8])).dot(mat)\n",
    "     # 3rd CNOT\n",
    "    mat = TONC.dot(mat)\n",
    "    # U3\n",
    "    mat = np.kron(rz(angles[9]), I).dot(mat)\n",
    "    mat = np.kron(rx(angles[10]), I).dot(mat)\n",
    "    mat = np.kron(rz(angles[11]), I).dot(mat)\n",
    "    # U4\n",
    "    mat = np.kron(I, rx(angles[12])).dot(mat)\n",
    "    mat = np.kron(I, rz(angles[13])).dot(mat)\n",
    "    mat = np.kron(I, rx(angles[14])).dot(mat)\n",
    "    return mat / np.exp(1j*np.angle(mat[0,0]))\n"
   ]
  },
  {
   "cell_type": "code",
   "execution_count": 32,
   "metadata": {},
   "outputs": [
    {
     "name": "stdout",
     "output_type": "stream",
     "text": [
      "[[ 0.54909212+0.j          0.04182582+0.394408j    0.63831161-0.09569009j\n",
      "  -0.1994143 -0.29124973j]\n",
      " [-0.47386334+0.12778816j -0.45509308-0.19616037j  0.55710292-0.26288514j\n",
      "  -0.25811272+0.25969344j]\n",
      " [ 0.31138189+0.3162686j   0.44729074-0.37552338j  0.27136234+0.0990505j\n",
      "   0.16326667+0.59314765j]\n",
      " [-0.4844001 -0.16122529j  0.36741341+0.34788633j  0.34708337+0.00374806j\n",
      "   0.60095873-0.04139j   ]]\n"
     ]
    }
   ],
   "source": [
    "\n",
    "u = unitary_group.rvs(4)\n",
    "global_phase = np.angle(u[0, 0])\n",
    "u /= np.exp(1j * global_phase)\n",
    "print(u)\n"
   ]
  },
  {
   "cell_type": "code",
   "execution_count": 38,
   "metadata": {},
   "outputs": [
    {
     "name": "stdout",
     "output_type": "stream",
     "text": [
      "  message: Desired error not necessarily achieved due to precision loss.\n",
      "  success: False\n",
      "   status: 2\n",
      "      fun: 1.9618956151696055e-07\n",
      "        x: [ 2.525e+00  5.673e+00 ...  2.222e+00  3.789e+00]\n",
      "      nit: 131\n",
      "      jac: [ 1.179e-01 -1.103e-01 ... -7.420e-02  3.355e-02]\n",
      " hess_inv: [[ 7.539e-06  9.199e-07 ... -6.664e-07  4.920e-06]\n",
      "            [ 9.199e-07  6.273e-07 ... -2.624e-06  4.668e-06]\n",
      "            ...\n",
      "            [-6.664e-07 -2.624e-06 ...  1.063e-04 -1.714e-04]\n",
      "            [ 4.920e-06  4.668e-06 ... -1.714e-04  2.810e-04]]\n",
      "     nfev: 3228\n",
      "     njev: 201\n"
     ]
    }
   ],
   "source": [
    "def distance(angles):\n",
    "    return np.linalg.norm(u - build_matrix(angles))\n",
    "\n",
    "from scipy.optimize import minimize\n",
    "\n",
    "res = minimize(distance, x0=np.random.random(15) * 2 * np.pi, method=\"BFGS\", options={\"maxiter\": 40000})\n",
    "print(res)\n"
   ]
  },
  {
   "cell_type": "code",
   "execution_count": 39,
   "metadata": {},
   "outputs": [
    {
     "name": "stdout",
     "output_type": "stream",
     "text": [
      "[[ 0.54909214-9.83716036e-17j  0.04182585+3.94408062e-01j\n",
      "   0.63831157-9.56901084e-02j -0.19941427-2.91249705e-01j]\n",
      " [-0.47386332+1.27788088e-01j -0.45509303-1.96160394e-01j\n",
      "   0.55710297-2.62885117e-01j -0.25811279+2.59693427e-01j]\n",
      " [ 0.31138188+3.16268583e-01j  0.44729075-3.75523349e-01j\n",
      "   0.27136235+9.90505454e-02j  0.1632667 +5.93147670e-01j]\n",
      " [-0.48440015-1.61225254e-01j  0.36741341+3.47886336e-01j\n",
      "   0.34708335+3.74806848e-03j  0.6009587 -4.13900465e-02j]]\n",
      "[[ 0.54909212+0.j          0.04182582+0.394408j    0.63831161-0.09569009j\n",
      "  -0.1994143 -0.29124973j]\n",
      " [-0.47386334+0.12778816j -0.45509308-0.19616037j  0.55710292-0.26288514j\n",
      "  -0.25811272+0.25969344j]\n",
      " [ 0.31138189+0.3162686j   0.44729074-0.37552338j  0.27136234+0.0990505j\n",
      "   0.16326667+0.59314765j]\n",
      " [-0.4844001 -0.16122529j  0.36741341+0.34788633j  0.34708337+0.00374806j\n",
      "   0.60095873-0.04139j   ]]\n"
     ]
    }
   ],
   "source": [
    "print(\"Our target matrix:\")\n",
    "print(u)\n",
    "print(\"Our circuit:\")\n",
    "print(build_matrix(res.x))"
   ]
  },
  {
   "attachments": {},
   "cell_type": "markdown",
   "metadata": {},
   "source": [
    "# CNOT circuits\n",
    "\n",
    "## Gaussian elimination"
   ]
  },
  {
   "cell_type": "code",
   "execution_count": 62,
   "metadata": {},
   "outputs": [],
   "source": [
    "def gaussian_elimination(table):\n",
    "    table = table.copy()\n",
    "    output = []\n",
    "    for i in range(table.shape[1]):\n",
    "        pivot = None\n",
    "        for j in range(i, table.shape[0]):\n",
    "            if table[j, i]:\n",
    "                pivot = j\n",
    "                break\n",
    "        if pivot != i:\n",
    "            table[[i, pivot]] = table[[pivot, i]]\n",
    "            output.append((i, pivot))\n",
    "            output.append((pivot, i))\n",
    "            output.append((i, pivot))\n",
    "        for j in range(table.shape[0]):\n",
    "            if table[j, i] and i != j:\n",
    "                table[j] ^= table[i]\n",
    "                output.append((i, j))\n",
    "    return output"
   ]
  },
  {
   "attachments": {},
   "cell_type": "markdown",
   "metadata": {},
   "source": [
    "## Greedy Gaussian elimination"
   ]
  },
  {
   "cell_type": "code",
   "execution_count": 63,
   "metadata": {},
   "outputs": [],
   "source": [
    "def lu_decomposition(matrix):\n",
    "    P = np.eye(matrix.shape[0], dtype=np.byte)\n",
    "    U = matrix.copy()\n",
    "    L = np.eye(matrix.shape[0], dtype=np.byte)\n",
    "    ops = []\n",
    "    for i in range(matrix.shape[0]):\n",
    "        pivot = None\n",
    "        for j in range(i, matrix.shape[0]):\n",
    "            if U[j, i]:\n",
    "                pivot = j\n",
    "                break\n",
    "        if pivot != i:\n",
    "            P[[i, pivot]] = P[[pivot, i]]\n",
    "            U[[i, pivot]] = U[[pivot, i]]\n",
    "            ops.extend(((i, pivot), (pivot, i), (i, pivot)))\n",
    "        for j in range(i + 1, matrix.shape[0]):\n",
    "            if U[j, i]:\n",
    "                U[j] ^= U[i]\n",
    "                ops.append((i, j))\n",
    "    for a, b in reversed(ops):\n",
    "        L[b] ^= L[a]\n",
    "    return P, U, P @ L\n",
    "\n",
    "\n",
    "def greedy_ge(triangle):\n",
    "    \"\"\" Reduction of a lower triangular \"\"\"\n",
    "    \n",
    "    triangle = triangle.copy()\n",
    "    output = []\n",
    "    for i in range(triangle.shape[1]):\n",
    "        while any(triangle[i+1:, i]):\n",
    "            candidates = np.nonzero(triangle[:, i])[0]\n",
    "            candidates = [(c, t) for i, c in enumerate(candidates) for t in candidates[i+1:]]\n",
    "            def score(cnot):\n",
    "                c, t = cnot\n",
    "                s = 0\n",
    "                for value in (triangle[c] & triangle[t]):\n",
    "                    if value:\n",
    "                        s += 1\n",
    "                        continue\n",
    "                    break\n",
    "                return s\n",
    "            best_pick = max(candidates, key=score)\n",
    "            output.append(best_pick)\n",
    "            triangle[best_pick[1]] ^= triangle[best_pick[0]]\n",
    "    return output\n",
    "\n",
    "def rev_args(cnots):\n",
    "    return [(b,a) for a, b in cnots]\n",
    "\n",
    "def greedy_gaussian_elimination(table):\n",
    "    p, u, l = lu_decomposition(table)\n",
    "    circuit_u = rev_args(greedy_ge(u.transpose()))\n",
    "    circuit_l = list(reversed(greedy_ge(l)))\n",
    "    output = circuit_u + circuit_l\n",
    "    return output"
   ]
  },
  {
   "attachments": {},
   "cell_type": "markdown",
   "metadata": {},
   "source": [
    "## Benchmarks!\n"
   ]
  },
  {
   "cell_type": "code",
   "execution_count": 64,
   "metadata": {},
   "outputs": [],
   "source": [
    "def gen_random_table(n):\n",
    "    mat = np.eye(n, dtype=np.byte)\n",
    "    for _ in range(n * n):\n",
    "        a, b = np.random.choice(range(n), size=2, replace=False)\n",
    "        mat[b] ^= mat[a]\n",
    "    return mat"
   ]
  },
  {
   "cell_type": "code",
   "execution_count": 78,
   "metadata": {},
   "outputs": [
    {
     "name": "stdout",
     "output_type": "stream",
     "text": [
      "787\n",
      "711\n"
     ]
    }
   ],
   "source": [
    "A = gen_random_table(40)\n",
    "\n",
    "circuit_ge = gaussian_elimination(A)\n",
    "circuit_gge = greedy_gaussian_elimination(A)\n",
    "print(len(circuit_ge))\n",
    "print(len(circuit_gge))"
   ]
  },
  {
   "cell_type": "code",
   "execution_count": null,
   "metadata": {},
   "outputs": [],
   "source": []
  }
 ],
 "metadata": {
  "kernelspec": {
   "display_name": "Python 3",
   "language": "python",
   "name": "python3"
  },
  "language_info": {
   "codemirror_mode": {
    "name": "ipython",
    "version": 3
   },
   "file_extension": ".py",
   "mimetype": "text/x-python",
   "name": "python",
   "nbconvert_exporter": "python",
   "pygments_lexer": "ipython3",
   "version": "3.8.10"
  },
  "orig_nbformat": 4
 },
 "nbformat": 4,
 "nbformat_minor": 2
}
